{
  "cells": [
    {
      "cell_type": "code",
      "execution_count": 115,
      "metadata": {},
      "outputs": [],
      "source": [
        "# 导入基础依赖：math 数学函数、numpy 数值计算、matplotlib 可视化\n",
        "import math\n",
        "import numpy as np\n",
        "import matplotlib.pyplot as plt\n",
        "%matplotlib inline"
      ]
    },
    {
      "cell_type": "code",
      "execution_count": 116,
      "metadata": {},
      "outputs": [],
      "source": [
        "# 定义一个二次函数 f(x) = 3*x**2 - 4*x + 5\n",
        "def f(x):\n",
        "  return 3*x**2 - 4*x + 5"
      ]
    },
    {
      "cell_type": "code",
      "execution_count": 117,
      "metadata": {},
      "outputs": [
        {
          "data": {
            "text/plain": [
              "20.0"
            ]
          },
          "execution_count": 117,
          "metadata": {},
          "output_type": "execute_result"
        }
      ],
      "source": [
        "# 计算 f(3.0) 并展示结果\n",
        "f(3.0)"
      ]
    },
    {
      "cell_type": "code",
      "execution_count": 118,
      "metadata": {},
      "outputs": [
        {
          "data": {
            "text/plain": [
              "[<matplotlib.lines.Line2D at 0x16cd0fb84d0>]"
            ]
          },
          "execution_count": 118,
          "metadata": {},
          "output_type": "execute_result"
        },
        {
          "data": {
            "image/png": "[encoded data removed]",
            "text/plain": [
              "<Figure size 640x480 with 1 Axes>"
            ]
          },
          "metadata": {},
          "output_type": "display_data"
        }
      ],
      "source": [
        "# 在区间 [-5,5] 上绘制 f(x) 曲线\n",
        "xs = np.arange(-5, 5, 0.25)\n",
        "ys = f(xs)\n",
        "plt.plot(xs, ys)"
      ]
    },
    {
      "cell_type": "code",
      "execution_count": 119,
      "metadata": {},
      "outputs": [
        {
          "data": {
            "text/plain": [
              "-3.99999700029241"
            ]
          },
          "execution_count": 119,
          "metadata": {},
          "output_type": "execute_result"
        }
      ],
      "source": [
        "# 用差分 (f(x+h)-f(x))/h 估算导数，验证 f'(2/3)\n",
        "h = 0.000001\n",
        "x = 0\n",
        "(f(x + h) - f(x))/h"
      ]
    },
    {
      "cell_type": "code",
      "execution_count": 120,
      "metadata": {},
      "outputs": [
        {
          "name": "stdout",
          "output_type": "stream",
          "text": [
            "4.0\n"
          ]
        }
      ],
      "source": [
        "# 定义标量 a,b,c 并计算 d = a*b + c\n",
        "# les get more complex\n",
        "a = 2.0\n",
        "b = -3.0\n",
        "c = 10.0\n",
        "d = a*b + c\n",
        "print(d)"
      ]
    },
    {
      "cell_type": "code",
      "execution_count": 121,
      "metadata": {},
      "outputs": [
        {
          "name": "stdout",
          "output_type": "stream",
          "text": [
            "d1 94.0\n",
            "d2 94.0002\n",
            "slope 2.000000000066393\n"
          ]
        }
      ],
      "source": [
        "# 对 c 增量 h，再次计算 d，验证变化率 (d2-d1)/h\n",
        "h = 0.0001\n",
        "\n",
        "# inputs\n",
        "a = 2.0\n",
        "b = -3.0\n",
        "c = 10.0\n",
        "\n",
        "d1 = a*b + c**2\n",
        "b += h\n",
        "d2 = a*b + c**2\n",
        "\n",
        "print('d1', d1)\n",
        "print('d2', d2)\n",
        "print('slope', (d2 - d1)/h)\n"
      ]
    },
    {
      "cell_type": "code",
      "execution_count": 122,
      "metadata": {},
      "outputs": [
        {
          "data": {
            "text/plain": [
              "Value(data=-8.0)"
            ]
          },
          "execution_count": 122,
          "metadata": {},
          "output_type": "execute_result"
        }
      ],
      "source": [
        "class Value:\n",
        "    \"\"\"\n",
        "    Value 类是微型自动微分引擎的核心，用于表示计算图中的节点。\n",
        "    每个 Value 对象保存数值 (data)、梯度 (grad)，并记录计算图的结构 (父节点和操作)。\n",
        "    支持基本的数学运算 (+, *, tanh) 和反向传播 (backward)。\n",
        "    \"\"\"\n",
        "\n",
        "    def __init__(self, data, _children=(), _op='', label=''):\n",
        "        \"\"\"\n",
        "        初始化 Value 对象。\n",
        "\n",
        "        参数:\n",
        "            data (float): 节点的数值。\n",
        "            _children (tuple): 父节点集合，表示该节点由哪些节点通过运算生成。\n",
        "            _op (str): 生成该节点的运算符（如 '+'、'*'、'tanh'）。\n",
        "            label (str): 节点的标签，便于调试和可视化。\n",
        "\n",
        "        属性:\n",
        "            self.data: 存储节点的数值。\n",
        "            self.grad: 存储节点的梯度，初始为 0.0。\n",
        "            self._backward: 定义该节点的反向传播函数，初始为空函数。\n",
        "            self._prev: 存储父节点集合（set 类型）。\n",
        "            self._op: 存储生成该节点的运算符。\n",
        "            self.label: 存储节点的标签。\n",
        "        \"\"\"\n",
        "        self.data = data\n",
        "        self.grad = 0.0\n",
        "        self._backward = lambda: None\n",
        "        self._prev = set(_children)\n",
        "        self._op = _op\n",
        "        self.label = label\n",
        "\n",
        "    def __repr__(self):\n",
        "        \"\"\"\n",
        "        定义 Value 对象的字符串表示形式，便于打印和调试。\n",
        "\n",
        "        返回:\n",
        "            str: 包含节点数据的字符串，如 \"Value(data=2.0)\"。\n",
        "        \"\"\"\n",
        "        return f\"Value(data={self.data})\"\n",
        "\n",
        "    def __add__(self, other):\n",
        "        \"\"\"\n",
        "        重载加法运算符 (+)。赋予类对象加法运算能力\n",
        "        \"\"\"\n",
        "        out = Value(self.data + other.data, (self, other), '+')\n",
        "\n",
        "        def _backward():\n",
        "            self.grad += 1.0 * out.grad  # 梯度累加：∂out/∂self = 1\n",
        "            other.grad += 1.0 * out.grad  # 梯度累加：∂out/∂other = 1\n",
        "        out._backward = _backward\n",
        "\n",
        "        return out\n",
        "\n",
        "    def __mul__(self, other):\n",
        "        \"\"\"\n",
        "        重载乘法运算符 (*)。赋予类对象乘法运算能力\n",
        "        \"\"\"\n",
        "        out = Value(self.data * other.data, (self, other), '*')\n",
        "\n",
        "        def _backward():\n",
        "            self.grad += other.data * out.grad  # 梯度累加：∂out/∂self = other.data\n",
        "            other.grad += self.data * out.grad  # 梯度累加：∂out/∂other = self.data\n",
        "        out._backward = _backward\n",
        "\n",
        "        return out\n",
        "\n",
        "    def tanh(self):\n",
        "        \"\"\"\n",
        "        实现 tanh 激活函数。\n",
        "\n",
        "        功能:\n",
        "            创建一个新 Value 对象，表示 tanh(self.data)。\n",
        "            同时定义新节点的反向传播函数，用于梯度计算。\n",
        "\n",
        "        返回:\n",
        "            Value: 表示 tanh 结果的新节点。\n",
        "\n",
        "        实现逻辑:\n",
        "            1. 计算 tanh(self.data)：\n",
        "               - 使用公式：tanh(x) = (e^(2x) - 1) / (e^(2x) + 1)。\n",
        "            2. 创建新节点 out，记录父节点 (self,) 和运算符 'tanh'。\n",
        "            3. 定义反向传播函数 _backward：\n",
        "               - tanh 的导数：∂tanh(x)/∂x = 1 - tanh(x)^2。\n",
        "               - 因此，self.grad += (1 - t^2) * out.grad，其中 t 是 tanh(self.data)。\n",
        "        \"\"\"\n",
        "        x = self.data\n",
        "        t = (math.exp(2*x) - 1) / (math.exp(2*x) + 1)  # 计算 tanh(x)\n",
        "        out = Value(t, (self, ), 'tanh')\n",
        "\n",
        "        def _backward():\n",
        "            self.grad += (1 - t**2) * out.grad  # 梯度累加：∂out/∂self = 1 - tanh(x)^2\n",
        "        out._backward = _backward\n",
        "\n",
        "        return out\n",
        "\n",
        "    def backward(self):\n",
        "        \"\"\"\n",
        "        执行反向传播，计算计算图中所有节点的梯度。\n",
        "\n",
        "        功能:\n",
        "            从当前节点开始，沿着计算图反向传播，计算每个节点的梯度。\n",
        "\n",
        "        实现逻辑:\n",
        "            1. 使用拓扑排序构建节点序列：\n",
        "               - 通过深度优先搜索 (DFS) 遍历计算图，确保子节点先于父节点处理。\n",
        "               - 结果存储在 topo 列表中，顺序是从输入节点到输出节点。\n",
        "            2. 初始化当前节点的梯度为 1.0（假设当前节点是损失函数）。\n",
        "            3. 按拓扑序列的逆序调用每个节点的 _backward 函数，计算梯度。\n",
        "        \"\"\"\n",
        "        topo = []\n",
        "        visited = set()  # \n",
        "\n",
        "        def build_topo(v):\n",
        "            \"\"\"\n",
        "            递归构建拓扑排序。\n",
        "\n",
        "            参数:\n",
        "                v (Value): 当前节点。\n",
        "\n",
        "            逻辑:\n",
        "                - 如果节点未被访问，标记为已访问。\n",
        "                - 递归处理所有父节点。\n",
        "                - 将当前节点添加到拓扑序列。\n",
        "            \"\"\"\n",
        "            if v not in visited:\n",
        "                visited.add(v)\n",
        "                for child in v._prev:\n",
        "                    build_topo(child)\n",
        "                topo.append(v)\n",
        "\n",
        "        build_topo(self)  # 构建拓扑排序\n",
        "\n",
        "        self.grad = 1.0  # 初始化输出节点的梯度为 1.0\n",
        "        for node in reversed(topo):  # 按逆序遍历拓扑序列\n",
        "            node._backward()  # 调用每个节点的反向传播函数\n",
        "\n",
        "\n",
        "# 测试代码\n",
        "a = Value(2.0, label='a') # 实例化名为a的Value类对象，数据为2.0\n",
        "b = Value(-3.0, label='b')\n",
        "c = Value(10.0, label='c')\n",
        "e = a * b; e.label = 'e'  # e 是一个新的 Value 对象，e._prev = {a, b}，e._op = '*'\n",
        "d = e + c; d.label = 'd'  # d = e + c = -6.0 + 10.0 = 4.0\n",
        "f = Value(-2.0, label='f')\n",
        "L = d * f; L.label = 'L'  # 实际上调用 d.__mul__(f)\n",
        "L"
      ]
    },
    {
      "cell_type": "code",
      "execution_count": 123,
      "metadata": {},
      "outputs": [],
      "source": [
        "# 导入 graphviz 库，用于创建图形可视化\n",
        "from graphviz import Digraph\n",
        "\n",
        "def trace(root):\n",
        "  \"\"\"\n",
        "  递归地遍历计算图，找出所有的节点 (Value 对象) 和边 (连接关系)。\n",
        "\n",
        "  参数:\n",
        "    root (Value): 计算图的根节点（通常是最终输出的 Value 对象）。\n",
        "\n",
        "  返回:\n",
        "    tuple: 包含两个集合，分别是节点集合和边集合。\n",
        "           nodes (set): 计算图中所有唯一的 Value 对象。\n",
        "           edges (set): 计算图中所有唯一的边，表示为 (父节点, 子节点) 的元组。\n",
        "  \"\"\"\n",
        "  # 初始化用于存储节点和边的集合\n",
        "  nodes, edges = set(), set()\n",
        "  \n",
        "  def build(v):\n",
        "    \"\"\"\n",
        "    递归辅助函数，通过深度优先搜索 (DFS) 构建节点和边集合。\n",
        "\n",
        "    参数:\n",
        "      v (Value): 当前访问的 Value 节点。\n",
        "    \"\"\"\n",
        "    # 如果当前节点 v 还没有被访问过\n",
        "    if v not in nodes:\n",
        "      # 将节点 v 添加到已访问节点集合中\n",
        "      nodes.add(v)\n",
        "      # 遍历当前节点 v 的所有父节点 (v._prev 存储了生成 v 的节点)\n",
        "      for child in v._prev:\n",
        "        # 添加一条从父节点 child 指向当前节点 v 的边\n",
        "        edges.add((child, v))\n",
        "        # 递归地对父节点 child 调用 build 函数，继续向上追溯\n",
        "        build(child)\n",
        "        \n",
        "  # 从根节点 root 开始构建节点和边集合\n",
        "  build(root)\n",
        "  # 返回包含所有节点和边的元组\n",
        "  return nodes, edges\n",
        "\n",
        "def draw_dot(root):\n",
        "  \"\"\"\n",
        "  使用 graphviz 创建并返回计算图的可视化对象 (Digraph)。\n",
        "\n",
        "  参数:\n",
        "    root (Value): 计算图的根节点。\n",
        "\n",
        "  返回:\n",
        "    Digraph: graphviz 的 Digraph 对象，可以用于渲染和显示计算图。\n",
        "  \"\"\"\n",
        "  # 创建一个 Digraph 对象\n",
        "  # format='svg': 指定输出格式为 SVG\n",
        "  # graph_attr={'rankdir': 'LR'}: 设置图形属性，'LR' 表示从左到右绘制图形\n",
        "  dot = Digraph(format='svg', graph_attr={'rankdir': 'LR'}) \n",
        "  \n",
        "  # 调用 trace 函数获取计算图的所有节点和边\n",
        "  nodes, edges = trace(root)\n",
        "  \n",
        "  # 遍历所有节点，为每个节点在图中创建对应的图形元素\n",
        "  for n in nodes:\n",
        "    # 使用节点的内存地址作为唯一标识符 (uid)\n",
        "    uid = str(id(n))\n",
        "    # 为每个 Value 对象创建一个矩形节点 ('record' shape)\n",
        "    # label 中包含节点的标签 (n.label)、数据 (n.data，保留4位小数) 和梯度 (n.grad，保留4位小数)\n",
        "    dot.node(name = uid, label = \"{ %s | data %.4f | grad %.1f }\" % (n.label, n.data, n.grad), shape='record')\n",
        "    # 如果这个节点是由某个操作 (n._op) 产生的\n",
        "    if n._op:\n",
        "      # 为该操作创建一个单独的操作节点 (通常显示为椭圆形)\n",
        "      # 操作节点的名称是在 Value 节点 uid 后附加操作符\n",
        "      dot.node(name = uid + n._op, label = n._op)\n",
        "      # 从操作节点连接一条边到它产生的 Value 节点\n",
        "      dot.edge(uid + n._op, uid)\n",
        "\n",
        "  # 遍历所有的边 (父节点 n1, 子节点 n2)\n",
        "  for n1, n2 in edges:\n",
        "    # 从父节点 n1 连接一条边到子节点 n2 对应的操作节点\n",
        "    # 子节点 n2 的操作节点名称是 str(id(n2)) + n2._op\n",
        "    dot.edge(str(id(n1)), str(id(n2)) + n2._op)\n",
        "\n",
        "  # 返回构建好的 Digraph 对象\n",
        "  return dot"
      ]
    },
    {
      "cell_type": "code",
      "execution_count": 124,
      "metadata": {},
      "outputs": [],
      "source": [
        "L.backward()"
      ]
    },
    {
      "cell_type": "code",
      "execution_count": 125,
      "metadata": {},
      "outputs": [
        {
          "data": {
            "image/svg+xml": [
              "<?xml version=\"1.0\" encoding=\"UTF-8\" standalone=\"no\"?>\n",
              "<!DOCTYPE svg PUBLIC \"-//W3C//DTD SVG 1.1//EN\"\n",
              " \"http://www.w3.org/Graphics/SVG/1.1/DTD/svg11.dtd\">\n",
              "<!-- Generated by graphviz version 2.50.0 (0)\n",
              " -->\n",
              "<!-- Pages: 1 -->\n",
              "<svg width=\"1077pt\" height=\"156pt\"\n",
              " viewBox=\"0.00 0.00 1077.00 156.00\" xmlns=\"http://www.w3.org/2000/svg\" xmlns:xlink=\"http://www.w3.org/1999/xlink\">\n",
              "<g id=\"graph0\" class=\"graph\" transform=\"scale(1 1) rotate(0) translate(4 152)\">\n",
              "<polygon fill=\"white\" stroke=\"transparent\" points=\"-4,4 -4,-152 1073,-152 1073,4 -4,4\"/>\n",
              "<!-- 1566819905568 -->\n",
              "<g id=\"node1\" class=\"node\">\n",
              "<title>1566819905568</title>\n",
              "<polygon fill=\"none\" stroke=\"black\" points=\"0,-111.5 0,-147.5 174,-147.5 174,-111.5 0,-111.5\"/>\n",
              "<text text-anchor=\"middle\" x=\"11.5\" y=\"-125.8\" font-family=\"Times New Roman,serif\" font-size=\"14.00\">b</text>\n",
              "<polyline fill=\"none\" stroke=\"black\" points=\"23,-111.5 23,-147.5 \"/>\n",
              "<text text-anchor=\"middle\" x=\"65.5\" y=\"-125.8\" font-family=\"Times New Roman,serif\" font-size=\"14.00\">data &#45;3.0000</text>\n",
              "<polyline fill=\"none\" stroke=\"black\" points=\"108,-111.5 108,-147.5 \"/>\n",
              "<text text-anchor=\"middle\" x=\"141\" y=\"-125.8\" font-family=\"Times New Roman,serif\" font-size=\"14.00\">grad &#45;4.0</text>\n",
              "</g>\n",
              "<!-- 1566874253408* -->\n",
              "<g id=\"node3\" class=\"node\">\n",
              "<title>1566874253408*</title>\n",
              "<ellipse fill=\"none\" stroke=\"black\" cx=\"237\" cy=\"-101.5\" rx=\"27\" ry=\"18\"/>\n",
              "<text text-anchor=\"middle\" x=\"237\" y=\"-97.8\" font-family=\"Times New Roman,serif\" font-size=\"14.00\">*</text>\n",
              "</g>\n",
              "<!-- 1566819905568&#45;&gt;1566874253408* -->\n",
              "<g id=\"edge9\" class=\"edge\">\n",
              "<title>1566819905568&#45;&gt;1566874253408*</title>\n",
              "<path fill=\"none\" stroke=\"black\" d=\"M174.09,-113.21C183.48,-111.44 192.6,-109.71 200.83,-108.15\"/>\n",
              "<polygon fill=\"black\" stroke=\"black\" points=\"201.56,-111.58 210.73,-106.28 200.25,-104.7 201.56,-111.58\"/>\n",
              "</g>\n",
              "<!-- 1566874253408 -->\n",
              "<g id=\"node2\" class=\"node\">\n",
              "<title>1566874253408</title>\n",
              "<polygon fill=\"none\" stroke=\"black\" points=\"301,-83.5 301,-119.5 475,-119.5 475,-83.5 301,-83.5\"/>\n",
              "<text text-anchor=\"middle\" x=\"312.5\" y=\"-97.8\" font-family=\"Times New Roman,serif\" font-size=\"14.00\">e</text>\n",
              "<polyline fill=\"none\" stroke=\"black\" points=\"324,-83.5 324,-119.5 \"/>\n",
              "<text text-anchor=\"middle\" x=\"366.5\" y=\"-97.8\" font-family=\"Times New Roman,serif\" font-size=\"14.00\">data &#45;6.0000</text>\n",
              "<polyline fill=\"none\" stroke=\"black\" points=\"409,-83.5 409,-119.5 \"/>\n",
              "<text text-anchor=\"middle\" x=\"442\" y=\"-97.8\" font-family=\"Times New Roman,serif\" font-size=\"14.00\">grad &#45;2.0</text>\n",
              "</g>\n",
              "<!-- 1566873845936+ -->\n",
              "<g id=\"node5\" class=\"node\">\n",
              "<title>1566873845936+</title>\n",
              "<ellipse fill=\"none\" stroke=\"black\" cx=\"539\" cy=\"-73.5\" rx=\"27\" ry=\"18\"/>\n",
              "<text text-anchor=\"middle\" x=\"539\" y=\"-69.8\" font-family=\"Times New Roman,serif\" font-size=\"14.00\">+</text>\n",
              "</g>\n",
              "<!-- 1566874253408&#45;&gt;1566873845936+ -->\n",
              "<g id=\"edge5\" class=\"edge\">\n",
              "<title>1566874253408&#45;&gt;1566873845936+</title>\n",
              "<path fill=\"none\" stroke=\"black\" d=\"M475.24,-85.29C484.84,-83.49 494.16,-81.74 502.56,-80.16\"/>\n",
              "<polygon fill=\"black\" stroke=\"black\" points=\"503.48,-83.55 512.66,-78.26 502.19,-76.67 503.48,-83.55\"/>\n",
              "</g>\n",
              "<!-- 1566874253408*&#45;&gt;1566874253408 -->\n",
              "<g id=\"edge1\" class=\"edge\">\n",
              "<title>1566874253408*&#45;&gt;1566874253408</title>\n",
              "<path fill=\"none\" stroke=\"black\" d=\"M264.3,-101.5C272.11,-101.5 281.16,-101.5 290.74,-101.5\"/>\n",
              "<polygon fill=\"black\" stroke=\"black\" points=\"290.88,-105 300.88,-101.5 290.88,-98 290.88,-105\"/>\n",
              "</g>\n",
              "<!-- 1566873845936 -->\n",
              "<g id=\"node4\" class=\"node\">\n",
              "<title>1566873845936</title>\n",
              "<polygon fill=\"none\" stroke=\"black\" points=\"602,-55.5 602,-91.5 771,-91.5 771,-55.5 602,-55.5\"/>\n",
              "<text text-anchor=\"middle\" x=\"613.5\" y=\"-69.8\" font-family=\"Times New Roman,serif\" font-size=\"14.00\">d</text>\n",
              "<polyline fill=\"none\" stroke=\"black\" points=\"625,-55.5 625,-91.5 \"/>\n",
              "<text text-anchor=\"middle\" x=\"665\" y=\"-69.8\" font-family=\"Times New Roman,serif\" font-size=\"14.00\">data 4.0000</text>\n",
              "<polyline fill=\"none\" stroke=\"black\" points=\"705,-55.5 705,-91.5 \"/>\n",
              "<text text-anchor=\"middle\" x=\"738\" y=\"-69.8\" font-family=\"Times New Roman,serif\" font-size=\"14.00\">grad &#45;2.0</text>\n",
              "</g>\n",
              "<!-- 1566873848144* -->\n",
              "<g id=\"node9\" class=\"node\">\n",
              "<title>1566873848144*</title>\n",
              "<ellipse fill=\"none\" stroke=\"black\" cx=\"834\" cy=\"-45.5\" rx=\"27\" ry=\"18\"/>\n",
              "<text text-anchor=\"middle\" x=\"834\" y=\"-41.8\" font-family=\"Times New Roman,serif\" font-size=\"14.00\">*</text>\n",
              "</g>\n",
              "<!-- 1566873845936&#45;&gt;1566873848144* -->\n",
              "<g id=\"edge7\" class=\"edge\">\n",
              "<title>1566873845936&#45;&gt;1566873848144*</title>\n",
              "<path fill=\"none\" stroke=\"black\" d=\"M771.29,-57.37C780.62,-55.58 789.7,-53.83 797.9,-52.25\"/>\n",
              "<polygon fill=\"black\" stroke=\"black\" points=\"798.61,-55.68 807.77,-50.36 797.29,-48.81 798.61,-55.68\"/>\n",
              "</g>\n",
              "<!-- 1566873845936+&#45;&gt;1566873845936 -->\n",
              "<g id=\"edge2\" class=\"edge\">\n",
              "<title>1566873845936+&#45;&gt;1566873845936</title>\n",
              "<path fill=\"none\" stroke=\"black\" d=\"M566.01,-73.5C573.58,-73.5 582.31,-73.5 591.54,-73.5\"/>\n",
              "<polygon fill=\"black\" stroke=\"black\" points=\"591.72,-77 601.72,-73.5 591.72,-70 591.72,-77\"/>\n",
              "</g>\n",
              "<!-- 1566874032880 -->\n",
              "<g id=\"node6\" class=\"node\">\n",
              "<title>1566874032880</title>\n",
              "<polygon fill=\"none\" stroke=\"black\" points=\"4.5,-56.5 4.5,-92.5 169.5,-92.5 169.5,-56.5 4.5,-56.5\"/>\n",
              "<text text-anchor=\"middle\" x=\"16\" y=\"-70.8\" font-family=\"Times New Roman,serif\" font-size=\"14.00\">a</text>\n",
              "<polyline fill=\"none\" stroke=\"black\" points=\"27.5,-56.5 27.5,-92.5 \"/>\n",
              "<text text-anchor=\"middle\" x=\"67.5\" y=\"-70.8\" font-family=\"Times New Roman,serif\" font-size=\"14.00\">data 2.0000</text>\n",
              "<polyline fill=\"none\" stroke=\"black\" points=\"107.5,-56.5 107.5,-92.5 \"/>\n",
              "<text text-anchor=\"middle\" x=\"138.5\" y=\"-70.8\" font-family=\"Times New Roman,serif\" font-size=\"14.00\">grad 6.0</text>\n",
              "</g>\n",
              "<!-- 1566874032880&#45;&gt;1566874253408* -->\n",
              "<g id=\"edge8\" class=\"edge\">\n",
              "<title>1566874032880&#45;&gt;1566874253408*</title>\n",
              "<path fill=\"none\" stroke=\"black\" d=\"M169.79,-89.42C180.57,-91.39 191.13,-93.32 200.54,-95.03\"/>\n",
              "<polygon fill=\"black\" stroke=\"black\" points=\"200.16,-98.52 210.62,-96.87 201.41,-91.63 200.16,-98.52\"/>\n",
              "</g>\n",
              "<!-- 1566873861392 -->\n",
              "<g id=\"node7\" class=\"node\">\n",
              "<title>1566873861392</title>\n",
              "<polygon fill=\"none\" stroke=\"black\" points=\"602.5,-0.5 602.5,-36.5 770.5,-36.5 770.5,-0.5 602.5,-0.5\"/>\n",
              "<text text-anchor=\"middle\" x=\"613\" y=\"-14.8\" font-family=\"Times New Roman,serif\" font-size=\"14.00\">f</text>\n",
              "<polyline fill=\"none\" stroke=\"black\" points=\"623.5,-0.5 623.5,-36.5 \"/>\n",
              "<text text-anchor=\"middle\" x=\"666\" y=\"-14.8\" font-family=\"Times New Roman,serif\" font-size=\"14.00\">data &#45;2.0000</text>\n",
              "<polyline fill=\"none\" stroke=\"black\" points=\"708.5,-0.5 708.5,-36.5 \"/>\n",
              "<text text-anchor=\"middle\" x=\"739.5\" y=\"-14.8\" font-family=\"Times New Roman,serif\" font-size=\"14.00\">grad 4.0</text>\n",
              "</g>\n",
              "<!-- 1566873861392&#45;&gt;1566873848144* -->\n",
              "<g id=\"edge4\" class=\"edge\">\n",
              "<title>1566873861392&#45;&gt;1566873848144*</title>\n",
              "<path fill=\"none\" stroke=\"black\" d=\"M770.87,-33.97C780.34,-35.73 789.56,-37.44 797.87,-38.98\"/>\n",
              "<polygon fill=\"black\" stroke=\"black\" points=\"797.4,-42.45 807.87,-40.84 798.68,-35.57 797.4,-42.45\"/>\n",
              "</g>\n",
              "<!-- 1566873848144 -->\n",
              "<g id=\"node8\" class=\"node\">\n",
              "<title>1566873848144</title>\n",
              "<polygon fill=\"none\" stroke=\"black\" points=\"897,-27.5 897,-63.5 1069,-63.5 1069,-27.5 897,-27.5\"/>\n",
              "<text text-anchor=\"middle\" x=\"909.5\" y=\"-41.8\" font-family=\"Times New Roman,serif\" font-size=\"14.00\">L</text>\n",
              "<polyline fill=\"none\" stroke=\"black\" points=\"922,-27.5 922,-63.5 \"/>\n",
              "<text text-anchor=\"middle\" x=\"964.5\" y=\"-41.8\" font-family=\"Times New Roman,serif\" font-size=\"14.00\">data &#45;8.0000</text>\n",
              "<polyline fill=\"none\" stroke=\"black\" points=\"1007,-27.5 1007,-63.5 \"/>\n",
              "<text text-anchor=\"middle\" x=\"1038\" y=\"-41.8\" font-family=\"Times New Roman,serif\" font-size=\"14.00\">grad 1.0</text>\n",
              "</g>\n",
              "<!-- 1566873848144*&#45;&gt;1566873848144 -->\n",
              "<g id=\"edge3\" class=\"edge\">\n",
              "<title>1566873848144*&#45;&gt;1566873848144</title>\n",
              "<path fill=\"none\" stroke=\"black\" d=\"M861.28,-45.5C868.8,-45.5 877.46,-45.5 886.63,-45.5\"/>\n",
              "<polygon fill=\"black\" stroke=\"black\" points=\"886.74,-49 896.74,-45.5 886.74,-42 886.74,-49\"/>\n",
              "</g>\n",
              "<!-- 1566874241408 -->\n",
              "<g id=\"node10\" class=\"node\">\n",
              "<title>1566874241408</title>\n",
              "<polygon fill=\"none\" stroke=\"black\" points=\"300,-28.5 300,-64.5 476,-64.5 476,-28.5 300,-28.5\"/>\n",
              "<text text-anchor=\"middle\" x=\"311.5\" y=\"-42.8\" font-family=\"Times New Roman,serif\" font-size=\"14.00\">c</text>\n",
              "<polyline fill=\"none\" stroke=\"black\" points=\"323,-28.5 323,-64.5 \"/>\n",
              "<text text-anchor=\"middle\" x=\"366.5\" y=\"-42.8\" font-family=\"Times New Roman,serif\" font-size=\"14.00\">data 10.0000</text>\n",
              "<polyline fill=\"none\" stroke=\"black\" points=\"410,-28.5 410,-64.5 \"/>\n",
              "<text text-anchor=\"middle\" x=\"443\" y=\"-42.8\" font-family=\"Times New Roman,serif\" font-size=\"14.00\">grad &#45;2.0</text>\n",
              "</g>\n",
              "<!-- 1566874241408&#45;&gt;1566873845936+ -->\n",
              "<g id=\"edge6\" class=\"edge\">\n",
              "<title>1566874241408&#45;&gt;1566873845936+</title>\n",
              "<path fill=\"none\" stroke=\"black\" d=\"M476.11,-62.28C485.51,-63.99 494.64,-65.64 502.86,-67.13\"/>\n",
              "<polygon fill=\"black\" stroke=\"black\" points=\"502.3,-70.59 512.76,-68.93 503.54,-63.7 502.3,-70.59\"/>\n",
              "</g>\n",
              "</g>\n",
              "</svg>\n"
            ],
            "text/plain": [
              "<graphviz.graphs.Digraph at 0x16cd0f5b230>"
            ]
          },
          "execution_count": 125,
          "metadata": {},
          "output_type": "execute_result"
        }
      ],
      "source": [
        "# 将变量 a,b,c,f 构造的计算图 L 可视化\n",
        "draw_dot(L)"
      ]
    },
    {
      "cell_type": "code",
      "execution_count": 126,
      "metadata": {},
      "outputs": [
        {
          "name": "stdout",
          "output_type": "stream",
          "text": [
            "-7.286496\n"
          ]
        }
      ],
      "source": [
        "# 利用梯度更新 a,b,c,f，然后重新前向计算 L.data  0.01是学习率 前向过程\n",
        "a.data += 0.01 * a.grad\n",
        "b.data += 0.01 * b.grad\n",
        "c.data += 0.01 * c.grad\n",
        "f.data += 0.01 * f.grad\n",
        "\n",
        "e = a * b\n",
        "d = e + c\n",
        "L = d * f\n",
        "\n",
        "print(L.data)\n"
      ]
    },
    {
      "cell_type": "code",
      "execution_count": 150,
      "metadata": {},
      "outputs": [
        {
          "name": "stdout",
          "output_type": "stream",
          "text": [
            "-1.9999999999242843\n"
          ]
        }
      ],
      "source": [
        "# 定义一个函数 lol()，对比手写自动微分和数值微分结果\n",
        "def lol():\n",
        "  \n",
        "  h = 0.00001\n",
        "  \n",
        "  a = Value(2.0, label='a')\n",
        "  b = Value(-3.0, label='b')\n",
        "  c = Value(10.0, label='c')\n",
        "  e = a*b; e.label = 'e'\n",
        "  d = e + c; d.label = 'd'\n",
        "  f = Value(-2.0, label='f')\n",
        "  L = d * f; L.label = 'L'\n",
        "  L1 = L.data\n",
        "  \n",
        "  a = Value(2.0, label='a')\n",
        "  b = Value(-3.0, label='b')\n",
        "  c = Value(10.0, label='c')\n",
        "  c.data += h\n",
        "  e = a*b; e.label = 'e'\n",
        "  d = e + c; d.label = 'd'\n",
        "  f = Value(-2.0, label='f')\n",
        "  L = d * f; L.label = 'L'\n",
        "  L2 = L.data\n",
        "  \n",
        "  print((L2 - L1)/h)\n",
        "  \n",
        "lol()"
      ]
    },
    {
      "cell_type": "code",
      "execution_count": 128,
      "metadata": {},
      "outputs": [
        {
          "data": {
            "image/png": "[encoded data removed]",
            "text/plain": [
              "<Figure size 640x480 with 1 Axes>"
            ]
          },
          "metadata": {},
          "output_type": "display_data"
        }
      ],
      "source": [
        "# 绘制 tanh 激活函数在 [-5,5] 区间的曲线\n",
        "plt.plot(np.arange(-5,5,0.6), np.tanh(np.arange(-5,5,0.6))); plt.grid();"
      ]
    },
    {
      "cell_type": "code",
      "execution_count": 151,
      "metadata": {},
      "outputs": [
        {
          "name": "stdout",
          "output_type": "stream",
          "text": [
            "n: Value(data=0.8813735870195432)\n",
            "o: Value(data=0.7071067811865476)\n"
          ]
        }
      ],
      "source": [
        "# 构造单个神经元：输入 x1,x2，权重 w1,w2，偏置 b，再计算 o = tanh(x1*w1 + x2*w2 + b)\n",
        "# inputs x1,x2\n",
        "x1 = Value(2.0, label='x1')\n",
        "x2 = Value(0.0, label='x2')\n",
        "# weights w1,w2\n",
        "w1 = Value(-3.0, label='w1')\n",
        "w2 = Value(1.0, label='w2')\n",
        "# bias of the neuron\n",
        "b = Value(6.8813735870195432, label='b')\n",
        "# x1*w1 + x2*w2 + b\n",
        "x1w1 = x1*w1; x1w1.label = 'x1*w1'\n",
        "x2w2 = x2*w2; x2w2.label = 'x2*w2'\n",
        "x1w1x2w2 = x1w1 + x2w2; x1w1x2w2.label = 'x1*w1 + x2*w2'\n",
        "n = x1w1x2w2 + b; n.label = 'n'\n",
        "o = n.tanh(); o.label = 'o'\n",
        "print(\"n:\", n)\n",
        "print(\"o:\", o)\n"
      ]
    },
    {
      "cell_type": "markdown",
      "metadata": {},
      "source": []
    },
    {
      "cell_type": "markdown",
      "metadata": {},
      "source": [
        "![](D:/BaiduSyncdisk/DyVault/NoteImages/2025-04-23-21-33-11.png)"
      ]
    },
    {
      "cell_type": "markdown",
      "metadata": {},
      "source": [
        "![](D:/BaiduSyncdisk/DyVault/NoteImages/2025-04-23-21-32-50.png)"
      ]
    },
    {
      "cell_type": "code",
      "execution_count": 130,
      "metadata": {},
      "outputs": [
        {
          "data": {
            "image/svg+xml": [
              "<?xml version=\"1.0\" encoding=\"UTF-8\" standalone=\"no\"?>\n",
              "<!DOCTYPE svg PUBLIC \"-//W3C//DTD SVG 1.1//EN\"\n",
              " \"http://www.w3.org/Graphics/SVG/1.1/DTD/svg11.dtd\">\n",
              "<!-- Generated by graphviz version 2.50.0 (0)\n",
              " -->\n",
              "<!-- Pages: 1 -->\n",
              "<svg width=\"1475pt\" height=\"210pt\"\n",
              " viewBox=\"0.00 0.00 1475.00 210.00\" xmlns=\"http://www.w3.org/2000/svg\" xmlns:xlink=\"http://www.w3.org/1999/xlink\">\n",
              "<g id=\"graph0\" class=\"graph\" transform=\"scale(1 1) rotate(0) translate(4 206)\">\n",
              "<polygon fill=\"white\" stroke=\"transparent\" points=\"-4,4 -4,-206 1471,-206 1471,4 -4,4\"/>\n",
              "<!-- 1566873933328 -->\n",
              "<g id=\"node1\" class=\"node\">\n",
              "<title>1566873933328</title>\n",
              "<polygon fill=\"none\" stroke=\"black\" points=\"676,-137.5 676,-173.5 841,-173.5 841,-137.5 676,-137.5\"/>\n",
              "<text text-anchor=\"middle\" x=\"687.5\" y=\"-151.8\" font-family=\"Times New Roman,serif\" font-size=\"14.00\">b</text>\n",
              "<polyline fill=\"none\" stroke=\"black\" points=\"699,-137.5 699,-173.5 \"/>\n",
              "<text text-anchor=\"middle\" x=\"739\" y=\"-151.8\" font-family=\"Times New Roman,serif\" font-size=\"14.00\">data 6.8814</text>\n",
              "<polyline fill=\"none\" stroke=\"black\" points=\"779,-137.5 779,-173.5 \"/>\n",
              "<text text-anchor=\"middle\" x=\"810\" y=\"-151.8\" font-family=\"Times New Roman,serif\" font-size=\"14.00\">grad 0.0</text>\n",
              "</g>\n",
              "<!-- 1566872187968+ -->\n",
              "<g id=\"node3\" class=\"node\">\n",
              "<title>1566872187968+</title>\n",
              "<ellipse fill=\"none\" stroke=\"black\" cx=\"948\" cy=\"-127.5\" rx=\"27\" ry=\"18\"/>\n",
              "<text text-anchor=\"middle\" x=\"948\" y=\"-123.8\" font-family=\"Times New Roman,serif\" font-size=\"14.00\">+</text>\n",
              "</g>\n",
              "<!-- 1566873933328&#45;&gt;1566872187968+ -->\n",
              "<g id=\"edge9\" class=\"edge\">\n",
              "<title>1566873933328&#45;&gt;1566872187968+</title>\n",
              "<path fill=\"none\" stroke=\"black\" d=\"M841.19,-143.3C865.79,-139.63 891.51,-135.79 911.43,-132.81\"/>\n",
              "<polygon fill=\"black\" stroke=\"black\" points=\"912.2,-136.24 921.57,-131.3 911.16,-129.31 912.2,-136.24\"/>\n",
              "</g>\n",
              "<!-- 1566872187968 -->\n",
              "<g id=\"node2\" class=\"node\">\n",
              "<title>1566872187968</title>\n",
              "<polygon fill=\"none\" stroke=\"black\" points=\"1011,-109.5 1011,-145.5 1176,-145.5 1176,-109.5 1011,-109.5\"/>\n",
              "<text text-anchor=\"middle\" x=\"1022.5\" y=\"-123.8\" font-family=\"Times New Roman,serif\" font-size=\"14.00\">n</text>\n",
              "<polyline fill=\"none\" stroke=\"black\" points=\"1034,-109.5 1034,-145.5 \"/>\n",
              "<text text-anchor=\"middle\" x=\"1074\" y=\"-123.8\" font-family=\"Times New Roman,serif\" font-size=\"14.00\">data 0.8814</text>\n",
              "<polyline fill=\"none\" stroke=\"black\" points=\"1114,-109.5 1114,-145.5 \"/>\n",
              "<text text-anchor=\"middle\" x=\"1145\" y=\"-123.8\" font-family=\"Times New Roman,serif\" font-size=\"14.00\">grad 0.0</text>\n",
              "</g>\n",
              "<!-- 1566872179664tanh -->\n",
              "<g id=\"node14\" class=\"node\">\n",
              "<title>1566872179664tanh</title>\n",
              "<ellipse fill=\"none\" stroke=\"black\" cx=\"1239\" cy=\"-127.5\" rx=\"27\" ry=\"18\"/>\n",
              "<text text-anchor=\"middle\" x=\"1239\" y=\"-123.8\" font-family=\"Times New Roman,serif\" font-size=\"14.00\">tanh</text>\n",
              "</g>\n",
              "<!-- 1566872187968&#45;&gt;1566872179664tanh -->\n",
              "<g id=\"edge6\" class=\"edge\">\n",
              "<title>1566872187968&#45;&gt;1566872179664tanh</title>\n",
              "<path fill=\"none\" stroke=\"black\" d=\"M1176.31,-127.5C1185.14,-127.5 1193.76,-127.5 1201.62,-127.5\"/>\n",
              "<polygon fill=\"black\" stroke=\"black\" points=\"1201.83,-131 1211.83,-127.5 1201.83,-124 1201.83,-131\"/>\n",
              "</g>\n",
              "<!-- 1566872187968+&#45;&gt;1566872187968 -->\n",
              "<g id=\"edge1\" class=\"edge\">\n",
              "<title>1566872187968+&#45;&gt;1566872187968</title>\n",
              "<path fill=\"none\" stroke=\"black\" d=\"M975.32,-127.5C982.87,-127.5 991.55,-127.5 1000.71,-127.5\"/>\n",
              "<polygon fill=\"black\" stroke=\"black\" points=\"1000.8,-131 1010.8,-127.5 1000.8,-124 1000.8,-131\"/>\n",
              "</g>\n",
              "<!-- 1566873928768 -->\n",
              "<g id=\"node4\" class=\"node\">\n",
              "<title>1566873928768</title>\n",
              "<polygon fill=\"none\" stroke=\"black\" points=\"2.5,-165.5 2.5,-201.5 177.5,-201.5 177.5,-165.5 2.5,-165.5\"/>\n",
              "<text text-anchor=\"middle\" x=\"19\" y=\"-179.8\" font-family=\"Times New Roman,serif\" font-size=\"14.00\">w2</text>\n",
              "<polyline fill=\"none\" stroke=\"black\" points=\"35.5,-165.5 35.5,-201.5 \"/>\n",
              "<text text-anchor=\"middle\" x=\"75.5\" y=\"-179.8\" font-family=\"Times New Roman,serif\" font-size=\"14.00\">data 1.0000</text>\n",
              "<polyline fill=\"none\" stroke=\"black\" points=\"115.5,-165.5 115.5,-201.5 \"/>\n",
              "<text text-anchor=\"middle\" x=\"146.5\" y=\"-179.8\" font-family=\"Times New Roman,serif\" font-size=\"14.00\">grad 0.0</text>\n",
              "</g>\n",
              "<!-- 1566871786112* -->\n",
              "<g id=\"node7\" class=\"node\">\n",
              "<title>1566871786112*</title>\n",
              "<ellipse fill=\"none\" stroke=\"black\" cx=\"243\" cy=\"-128.5\" rx=\"27\" ry=\"18\"/>\n",
              "<text text-anchor=\"middle\" x=\"243\" y=\"-124.8\" font-family=\"Times New Roman,serif\" font-size=\"14.00\">*</text>\n",
              "</g>\n",
              "<!-- 1566873928768&#45;&gt;1566871786112* -->\n",
              "<g id=\"edge8\" class=\"edge\">\n",
              "<title>1566873928768&#45;&gt;1566871786112*</title>\n",
              "<path fill=\"none\" stroke=\"black\" d=\"M154.07,-165.48C162.84,-162.65 171.69,-159.62 180,-156.5 190.47,-152.57 201.68,-147.71 211.65,-143.15\"/>\n",
              "<polygon fill=\"black\" stroke=\"black\" points=\"213.18,-146.3 220.77,-138.91 210.22,-139.96 213.18,-146.3\"/>\n",
              "</g>\n",
              "<!-- 1566873849920 -->\n",
              "<g id=\"node5\" class=\"node\">\n",
              "<title>1566873849920</title>\n",
              "<polygon fill=\"none\" stroke=\"black\" points=\"0,-55.5 0,-91.5 180,-91.5 180,-55.5 0,-55.5\"/>\n",
              "<text text-anchor=\"middle\" x=\"16.5\" y=\"-69.8\" font-family=\"Times New Roman,serif\" font-size=\"14.00\">w1</text>\n",
              "<polyline fill=\"none\" stroke=\"black\" points=\"33,-55.5 33,-91.5 \"/>\n",
              "<text text-anchor=\"middle\" x=\"75.5\" y=\"-69.8\" font-family=\"Times New Roman,serif\" font-size=\"14.00\">data &#45;3.0000</text>\n",
              "<polyline fill=\"none\" stroke=\"black\" points=\"118,-55.5 118,-91.5 \"/>\n",
              "<text text-anchor=\"middle\" x=\"149\" y=\"-69.8\" font-family=\"Times New Roman,serif\" font-size=\"14.00\">grad 0.0</text>\n",
              "</g>\n",
              "<!-- 1566873942976* -->\n",
              "<g id=\"node12\" class=\"node\">\n",
              "<title>1566873942976*</title>\n",
              "<ellipse fill=\"none\" stroke=\"black\" cx=\"243\" cy=\"-73.5\" rx=\"27\" ry=\"18\"/>\n",
              "<text text-anchor=\"middle\" x=\"243\" y=\"-69.8\" font-family=\"Times New Roman,serif\" font-size=\"14.00\">*</text>\n",
              "</g>\n",
              "<!-- 1566873849920&#45;&gt;1566873942976* -->\n",
              "<g id=\"edge11\" class=\"edge\">\n",
              "<title>1566873849920&#45;&gt;1566873942976*</title>\n",
              "<path fill=\"none\" stroke=\"black\" d=\"M180.15,-73.5C189.1,-73.5 197.79,-73.5 205.69,-73.5\"/>\n",
              "<polygon fill=\"black\" stroke=\"black\" points=\"205.92,-77 215.92,-73.5 205.92,-70 205.92,-77\"/>\n",
              "</g>\n",
              "<!-- 1566871786112 -->\n",
              "<g id=\"node6\" class=\"node\">\n",
              "<title>1566871786112</title>\n",
              "<polygon fill=\"none\" stroke=\"black\" points=\"308.5,-110.5 308.5,-146.5 503.5,-146.5 503.5,-110.5 308.5,-110.5\"/>\n",
              "<text text-anchor=\"middle\" x=\"335\" y=\"-124.8\" font-family=\"Times New Roman,serif\" font-size=\"14.00\">x2*w2</text>\n",
              "<polyline fill=\"none\" stroke=\"black\" points=\"361.5,-110.5 361.5,-146.5 \"/>\n",
              "<text text-anchor=\"middle\" x=\"401.5\" y=\"-124.8\" font-family=\"Times New Roman,serif\" font-size=\"14.00\">data 0.0000</text>\n",
              "<polyline fill=\"none\" stroke=\"black\" points=\"441.5,-110.5 441.5,-146.5 \"/>\n",
              "<text text-anchor=\"middle\" x=\"472.5\" y=\"-124.8\" font-family=\"Times New Roman,serif\" font-size=\"14.00\">grad 0.0</text>\n",
              "</g>\n",
              "<!-- 1566871784624+ -->\n",
              "<g id=\"node9\" class=\"node\">\n",
              "<title>1566871784624+</title>\n",
              "<ellipse fill=\"none\" stroke=\"black\" cx=\"569\" cy=\"-100.5\" rx=\"27\" ry=\"18\"/>\n",
              "<text text-anchor=\"middle\" x=\"569\" y=\"-96.8\" font-family=\"Times New Roman,serif\" font-size=\"14.00\">+</text>\n",
              "</g>\n",
              "<!-- 1566871786112&#45;&gt;1566871784624+ -->\n",
              "<g id=\"edge10\" class=\"edge\">\n",
              "<title>1566871786112&#45;&gt;1566871784624+</title>\n",
              "<path fill=\"none\" stroke=\"black\" d=\"M503.91,-111.65C514.04,-109.88 523.81,-108.19 532.54,-106.67\"/>\n",
              "<polygon fill=\"black\" stroke=\"black\" points=\"533.37,-110.08 542.62,-104.91 532.17,-103.18 533.37,-110.08\"/>\n",
              "</g>\n",
              "<!-- 1566871786112*&#45;&gt;1566871786112 -->\n",
              "<g id=\"edge2\" class=\"edge\">\n",
              "<title>1566871786112*&#45;&gt;1566871786112</title>\n",
              "<path fill=\"none\" stroke=\"black\" d=\"M270.23,-128.5C278.46,-128.5 288.12,-128.5 298.42,-128.5\"/>\n",
              "<polygon fill=\"black\" stroke=\"black\" points=\"298.46,-132 308.46,-128.5 298.46,-125 298.46,-132\"/>\n",
              "</g>\n",
              "<!-- 1566871784624 -->\n",
              "<g id=\"node8\" class=\"node\">\n",
              "<title>1566871784624</title>\n",
              "<polygon fill=\"none\" stroke=\"black\" points=\"632,-82.5 632,-118.5 885,-118.5 885,-82.5 632,-82.5\"/>\n",
              "<text text-anchor=\"middle\" x=\"685\" y=\"-96.8\" font-family=\"Times New Roman,serif\" font-size=\"14.00\">x1*w1 + x2*w2</text>\n",
              "<polyline fill=\"none\" stroke=\"black\" points=\"738,-82.5 738,-118.5 \"/>\n",
              "<text text-anchor=\"middle\" x=\"780.5\" y=\"-96.8\" font-family=\"Times New Roman,serif\" font-size=\"14.00\">data &#45;6.0000</text>\n",
              "<polyline fill=\"none\" stroke=\"black\" points=\"823,-82.5 823,-118.5 \"/>\n",
              "<text text-anchor=\"middle\" x=\"854\" y=\"-96.8\" font-family=\"Times New Roman,serif\" font-size=\"14.00\">grad 0.0</text>\n",
              "</g>\n",
              "<!-- 1566871784624&#45;&gt;1566872187968+ -->\n",
              "<g id=\"edge14\" class=\"edge\">\n",
              "<title>1566871784624&#45;&gt;1566872187968+</title>\n",
              "<path fill=\"none\" stroke=\"black\" d=\"M884.57,-118.51C894.09,-119.88 903.13,-121.18 911.23,-122.35\"/>\n",
              "<polygon fill=\"black\" stroke=\"black\" points=\"910.88,-125.84 921.28,-123.8 911.88,-118.91 910.88,-125.84\"/>\n",
              "</g>\n",
              "<!-- 1566871784624+&#45;&gt;1566871784624 -->\n",
              "<g id=\"edge3\" class=\"edge\">\n",
              "<title>1566871784624+&#45;&gt;1566871784624</title>\n",
              "<path fill=\"none\" stroke=\"black\" d=\"M596.07,-100.5C603.54,-100.5 612.23,-100.5 621.64,-100.5\"/>\n",
              "<polygon fill=\"black\" stroke=\"black\" points=\"621.69,-104 631.69,-100.5 621.69,-97 621.69,-104\"/>\n",
              "</g>\n",
              "<!-- 1566873860816 -->\n",
              "<g id=\"node10\" class=\"node\">\n",
              "<title>1566873860816</title>\n",
              "<polygon fill=\"none\" stroke=\"black\" points=\"4,-110.5 4,-146.5 176,-146.5 176,-110.5 4,-110.5\"/>\n",
              "<text text-anchor=\"middle\" x=\"19\" y=\"-124.8\" font-family=\"Times New Roman,serif\" font-size=\"14.00\">x2</text>\n",
              "<polyline fill=\"none\" stroke=\"black\" points=\"34,-110.5 34,-146.5 \"/>\n",
              "<text text-anchor=\"middle\" x=\"74\" y=\"-124.8\" font-family=\"Times New Roman,serif\" font-size=\"14.00\">data 0.0000</text>\n",
              "<polyline fill=\"none\" stroke=\"black\" points=\"114,-110.5 114,-146.5 \"/>\n",
              "<text text-anchor=\"middle\" x=\"145\" y=\"-124.8\" font-family=\"Times New Roman,serif\" font-size=\"14.00\">grad 0.0</text>\n",
              "</g>\n",
              "<!-- 1566873860816&#45;&gt;1566871786112* -->\n",
              "<g id=\"edge12\" class=\"edge\">\n",
              "<title>1566873860816&#45;&gt;1566871786112*</title>\n",
              "<path fill=\"none\" stroke=\"black\" d=\"M176.21,-128.5C186.59,-128.5 196.73,-128.5 205.81,-128.5\"/>\n",
              "<polygon fill=\"black\" stroke=\"black\" points=\"205.95,-132 215.95,-128.5 205.95,-125 205.95,-132\"/>\n",
              "</g>\n",
              "<!-- 1566873942976 -->\n",
              "<g id=\"node11\" class=\"node\">\n",
              "<title>1566873942976</title>\n",
              "<polygon fill=\"none\" stroke=\"black\" points=\"306,-55.5 306,-91.5 506,-91.5 506,-55.5 306,-55.5\"/>\n",
              "<text text-anchor=\"middle\" x=\"332.5\" y=\"-69.8\" font-family=\"Times New Roman,serif\" font-size=\"14.00\">x1*w1</text>\n",
              "<polyline fill=\"none\" stroke=\"black\" points=\"359,-55.5 359,-91.5 \"/>\n",
              "<text text-anchor=\"middle\" x=\"401.5\" y=\"-69.8\" font-family=\"Times New Roman,serif\" font-size=\"14.00\">data &#45;6.0000</text>\n",
              "<polyline fill=\"none\" stroke=\"black\" points=\"444,-55.5 444,-91.5 \"/>\n",
              "<text text-anchor=\"middle\" x=\"475\" y=\"-69.8\" font-family=\"Times New Roman,serif\" font-size=\"14.00\">grad 0.0</text>\n",
              "</g>\n",
              "<!-- 1566873942976&#45;&gt;1566871784624+ -->\n",
              "<g id=\"edge13\" class=\"edge\">\n",
              "<title>1566873942976&#45;&gt;1566871784624+</title>\n",
              "<path fill=\"none\" stroke=\"black\" d=\"M506.21,-90.14C515.57,-91.71 524.57,-93.22 532.67,-94.58\"/>\n",
              "<polygon fill=\"black\" stroke=\"black\" points=\"532.31,-98.06 542.76,-96.27 533.47,-91.16 532.31,-98.06\"/>\n",
              "</g>\n",
              "<!-- 1566873942976*&#45;&gt;1566873942976 -->\n",
              "<g id=\"edge4\" class=\"edge\">\n",
              "<title>1566873942976*&#45;&gt;1566873942976</title>\n",
              "<path fill=\"none\" stroke=\"black\" d=\"M270.23,-73.5C277.69,-73.5 286.31,-73.5 295.52,-73.5\"/>\n",
              "<polygon fill=\"black\" stroke=\"black\" points=\"295.71,-77 305.71,-73.5 295.71,-70 295.71,-77\"/>\n",
              "</g>\n",
              "<!-- 1566872179664 -->\n",
              "<g id=\"node13\" class=\"node\">\n",
              "<title>1566872179664</title>\n",
              "<polygon fill=\"none\" stroke=\"black\" points=\"1302,-109.5 1302,-145.5 1467,-145.5 1467,-109.5 1302,-109.5\"/>\n",
              "<text text-anchor=\"middle\" x=\"1313.5\" y=\"-123.8\" font-family=\"Times New Roman,serif\" font-size=\"14.00\">o</text>\n",
              "<polyline fill=\"none\" stroke=\"black\" points=\"1325,-109.5 1325,-145.5 \"/>\n",
              "<text text-anchor=\"middle\" x=\"1365\" y=\"-123.8\" font-family=\"Times New Roman,serif\" font-size=\"14.00\">data 0.7071</text>\n",
              "<polyline fill=\"none\" stroke=\"black\" points=\"1405,-109.5 1405,-145.5 \"/>\n",
              "<text text-anchor=\"middle\" x=\"1436\" y=\"-123.8\" font-family=\"Times New Roman,serif\" font-size=\"14.00\">grad 0.0</text>\n",
              "</g>\n",
              "<!-- 1566872179664tanh&#45;&gt;1566872179664 -->\n",
              "<g id=\"edge5\" class=\"edge\">\n",
              "<title>1566872179664tanh&#45;&gt;1566872179664</title>\n",
              "<path fill=\"none\" stroke=\"black\" d=\"M1266.32,-127.5C1273.87,-127.5 1282.55,-127.5 1291.71,-127.5\"/>\n",
              "<polygon fill=\"black\" stroke=\"black\" points=\"1291.8,-131 1301.8,-127.5 1291.8,-124 1291.8,-131\"/>\n",
              "</g>\n",
              "<!-- 1566873846752 -->\n",
              "<g id=\"node15\" class=\"node\">\n",
              "<title>1566873846752</title>\n",
              "<polygon fill=\"none\" stroke=\"black\" points=\"4,-0.5 4,-36.5 176,-36.5 176,-0.5 4,-0.5\"/>\n",
              "<text text-anchor=\"middle\" x=\"19\" y=\"-14.8\" font-family=\"Times New Roman,serif\" font-size=\"14.00\">x1</text>\n",
              "<polyline fill=\"none\" stroke=\"black\" points=\"34,-0.5 34,-36.5 \"/>\n",
              "<text text-anchor=\"middle\" x=\"74\" y=\"-14.8\" font-family=\"Times New Roman,serif\" font-size=\"14.00\">data 2.0000</text>\n",
              "<polyline fill=\"none\" stroke=\"black\" points=\"114,-0.5 114,-36.5 \"/>\n",
              "<text text-anchor=\"middle\" x=\"145\" y=\"-14.8\" font-family=\"Times New Roman,serif\" font-size=\"14.00\">grad 0.0</text>\n",
              "</g>\n",
              "<!-- 1566873846752&#45;&gt;1566873942976* -->\n",
              "<g id=\"edge7\" class=\"edge\">\n",
              "<title>1566873846752&#45;&gt;1566873942976*</title>\n",
              "<path fill=\"none\" stroke=\"black\" d=\"M151.62,-36.62C161.17,-39.75 170.9,-43.1 180,-46.5 190.23,-50.32 201.21,-54.93 211.04,-59.25\"/>\n",
              "<polygon fill=\"black\" stroke=\"black\" points=\"209.86,-62.56 220.42,-63.43 212.71,-56.17 209.86,-62.56\"/>\n",
              "</g>\n",
              "</g>\n",
              "</svg>\n"
            ],
            "text/plain": [
              "<graphviz.graphs.Digraph at 0x16cd0f2d610>"
            ]
          },
          "execution_count": 130,
          "metadata": {},
          "output_type": "execute_result"
        }
      ],
      "source": [
        "# 使用 Graphviz 可视化单神经元的前向计算图\n",
        "draw_dot(o)"
      ]
    },
    {
      "cell_type": "code",
      "execution_count": 131,
      "metadata": {},
      "outputs": [],
      "source": [
        "# 执行反向传播 生成并存储每个变量的grad属性\n",
        "o.backward()"
      ]
    },
    {
      "cell_type": "code",
      "execution_count": 132,
      "metadata": {},
      "outputs": [
        {
          "data": {
            "text/plain": [
              "[Value(data=6.881373587019543),\n",
              " Value(data=1.0),\n",
              " Value(data=0.0),\n",
              " Value(data=0.0),\n",
              " Value(data=-3.0),\n",
              " Value(data=2.0),\n",
              " Value(data=-6.0),\n",
              " Value(data=-6.0),\n",
              " Value(data=0.8813735870195432),\n",
              " Value(data=0.7071067811865476)]"
            ]
          },
          "execution_count": 132,
          "metadata": {},
          "output_type": "execute_result"
        }
      ],
      "source": [
        "# 构建计算图的拓扑列表 topo，用于观察节点处理顺序\n",
        "topo = []\n",
        "visited = set()\n",
        "def build_topo(v):\n",
        "  if v not in visited:\n",
        "    visited.add(v)\n",
        "    for child in v._prev:\n",
        "      build_topo(child)\n",
        "    topo.append(v)\n",
        "build_topo(o)\n",
        "topo"
      ]
    },
    {
      "cell_type": "code",
      "execution_count": 133,
      "metadata": {},
      "outputs": [],
      "source": [
        "# 将输出 o 的梯度手动置为 1.0，准备手动演示 _backward 调用\n",
        "o.grad = 1.0"
      ]
    },
    {
      "cell_type": "code",
      "execution_count": 134,
      "metadata": {},
      "outputs": [],
      "source": [
        "# 手动执行 o 节点的反向传播函数\n",
        "o._backward()"
      ]
    },
    {
      "cell_type": "code",
      "execution_count": 135,
      "metadata": {},
      "outputs": [],
      "source": [
        "# 手动执行 n 节点的反向传播函数\n",
        "n._backward()"
      ]
    },
    {
      "cell_type": "code",
      "execution_count": 136,
      "metadata": {},
      "outputs": [],
      "source": [
        "# 手动执行 b 节点的反向传播函数（偏置 b 的梯度计算）\n",
        "b._backward()"
      ]
    },
    {
      "cell_type": "code",
      "execution_count": 137,
      "metadata": {},
      "outputs": [],
      "source": [
        "# 手动执行 x1*w1 + x2*w2 的反向传播\n",
        "x1w1x2w2._backward()"
      ]
    },
    {
      "cell_type": "code",
      "execution_count": 138,
      "metadata": {},
      "outputs": [],
      "source": [
        "# 手动分别调用 x2*w2 和 x1*w1 的反向传播\n",
        "x2w2._backward()\n",
        "x1w1._backward()"
      ]
    },
    {
      "cell_type": "code",
      "execution_count": 139,
      "metadata": {},
      "outputs": [],
      "source": [
        "# 手动根据链式法则计算 x1 和 w1 的梯度\n",
        "x1.grad = w1.data * x1w1.grad\n",
        "w1.grad = x1.data * x1w1.grad"
      ]
    },
    {
      "cell_type": "code",
      "execution_count": 140,
      "metadata": {},
      "outputs": [],
      "source": [
        "# 手动根据链式法则计算 x2 和 w2 的梯度\n",
        "x2.grad = w2.data * x2w2.grad\n",
        "w2.grad = x2.data * x2w2.grad"
      ]
    },
    {
      "cell_type": "code",
      "execution_count": null,
      "metadata": {},
      "outputs": [],
      "source": []
    },
    {
      "cell_type": "code",
      "execution_count": 141,
      "metadata": {},
      "outputs": [],
      "source": [
        "# \n",
        "x1w1.grad = 0.5\n",
        "x2w2.grad = 0.5"
      ]
    },
    {
      "cell_type": "code",
      "execution_count": 142,
      "metadata": {},
      "outputs": [],
      "source": [
        "# 注释漏洞：请手动补充\n",
        "x1w1x2w2.grad = 0.5\n",
        "b.grad = 0.5"
      ]
    },
    {
      "cell_type": "code",
      "execution_count": 143,
      "metadata": {},
      "outputs": [],
      "source": [
        "# 注释漏洞：请手动补充\n",
        "n.grad = 0.5"
      ]
    },
    {
      "cell_type": "code",
      "execution_count": 144,
      "metadata": {},
      "outputs": [],
      "source": [
        "# 注释漏洞：请手动补充\n",
        "o.grad = 1.0"
      ]
    },
    {
      "cell_type": "code",
      "execution_count": 145,
      "metadata": {},
      "outputs": [
        {
          "data": {
            "text/plain": [
              "0.4999999999999999"
            ]
          },
          "execution_count": 145,
          "metadata": {},
          "output_type": "execute_result"
        }
      ],
      "source": [
        "# 注释漏洞：请手动补充\n",
        "1 - o.data**2"
      ]
    },
    {
      "cell_type": "code",
      "execution_count": 146,
      "metadata": {},
      "outputs": [],
      "source": [
        "# 注释漏洞：请手动补充\n",
        "# o = tanh(n)\n",
        "# do/dn = 1 - o**2"
      ]
    },
    {
      "cell_type": "code",
      "execution_count": 147,
      "metadata": {},
      "outputs": [
        {
          "data": {
            "image/svg+xml": [
              "<?xml version=\"1.0\" encoding=\"UTF-8\" standalone=\"no\"?>\n",
              "<!DOCTYPE svg PUBLIC \"-//W3C//DTD SVG 1.1//EN\"\n",
              " \"http://www.w3.org/Graphics/SVG/1.1/DTD/svg11.dtd\">\n",
              "<!-- Generated by graphviz version 2.50.0 (0)\n",
              " -->\n",
              "<!-- Pages: 1 -->\n",
              "<svg width=\"464pt\" height=\"45pt\"\n",
              " viewBox=\"0.00 0.00 464.00 45.00\" xmlns=\"http://www.w3.org/2000/svg\" xmlns:xlink=\"http://www.w3.org/1999/xlink\">\n",
              "<g id=\"graph0\" class=\"graph\" transform=\"scale(1 1) rotate(0) translate(4 41)\">\n",
              "<polygon fill=\"white\" stroke=\"transparent\" points=\"-4,4 -4,-41 460,-41 460,4 -4,4\"/>\n",
              "<!-- 1566872188832 -->\n",
              "<g id=\"node1\" class=\"node\">\n",
              "<title>1566872188832</title>\n",
              "<polygon fill=\"none\" stroke=\"black\" points=\"291,-0.5 291,-36.5 456,-36.5 456,-0.5 291,-0.5\"/>\n",
              "<text text-anchor=\"middle\" x=\"302.5\" y=\"-14.8\" font-family=\"Times New Roman,serif\" font-size=\"14.00\">b</text>\n",
              "<polyline fill=\"none\" stroke=\"black\" points=\"314,-0.5 314,-36.5 \"/>\n",
              "<text text-anchor=\"middle\" x=\"354\" y=\"-14.8\" font-family=\"Times New Roman,serif\" font-size=\"14.00\">data 6.0000</text>\n",
              "<polyline fill=\"none\" stroke=\"black\" points=\"394,-0.5 394,-36.5 \"/>\n",
              "<text text-anchor=\"middle\" x=\"425\" y=\"-14.8\" font-family=\"Times New Roman,serif\" font-size=\"14.00\">grad 1.0</text>\n",
              "</g>\n",
              "<!-- 1566872188832+ -->\n",
              "<g id=\"node2\" class=\"node\">\n",
              "<title>1566872188832+</title>\n",
              "<ellipse fill=\"none\" stroke=\"black\" cx=\"228\" cy=\"-18.5\" rx=\"27\" ry=\"18\"/>\n",
              "<text text-anchor=\"middle\" x=\"228\" y=\"-14.8\" font-family=\"Times New Roman,serif\" font-size=\"14.00\">+</text>\n",
              "</g>\n",
              "<!-- 1566872188832+&#45;&gt;1566872188832 -->\n",
              "<g id=\"edge1\" class=\"edge\">\n",
              "<title>1566872188832+&#45;&gt;1566872188832</title>\n",
              "<path fill=\"none\" stroke=\"black\" d=\"M255.32,-18.5C262.87,-18.5 271.55,-18.5 280.71,-18.5\"/>\n",
              "<polygon fill=\"black\" stroke=\"black\" points=\"280.8,-22 290.8,-18.5 280.8,-15 280.8,-22\"/>\n",
              "</g>\n",
              "<!-- 1566874291952 -->\n",
              "<g id=\"node3\" class=\"node\">\n",
              "<title>1566874291952</title>\n",
              "<polygon fill=\"none\" stroke=\"black\" points=\"0,-0.5 0,-36.5 165,-36.5 165,-0.5 0,-0.5\"/>\n",
              "<text text-anchor=\"middle\" x=\"11.5\" y=\"-14.8\" font-family=\"Times New Roman,serif\" font-size=\"14.00\">a</text>\n",
              "<polyline fill=\"none\" stroke=\"black\" points=\"23,-0.5 23,-36.5 \"/>\n",
              "<text text-anchor=\"middle\" x=\"63\" y=\"-14.8\" font-family=\"Times New Roman,serif\" font-size=\"14.00\">data 3.0000</text>\n",
              "<polyline fill=\"none\" stroke=\"black\" points=\"103,-0.5 103,-36.5 \"/>\n",
              "<text text-anchor=\"middle\" x=\"134\" y=\"-14.8\" font-family=\"Times New Roman,serif\" font-size=\"14.00\">grad 2.0</text>\n",
              "</g>\n",
              "<!-- 1566874291952&#45;&gt;1566872188832+ -->\n",
              "<g id=\"edge2\" class=\"edge\">\n",
              "<title>1566874291952&#45;&gt;1566872188832+</title>\n",
              "<path fill=\"none\" stroke=\"black\" d=\"M165.31,-18.5C174.14,-18.5 182.76,-18.5 190.62,-18.5\"/>\n",
              "<polygon fill=\"black\" stroke=\"black\" points=\"190.83,-22 200.83,-18.5 190.83,-15 190.83,-22\"/>\n",
              "</g>\n",
              "</g>\n",
              "</svg>\n"
            ],
            "text/plain": [
              "<graphviz.graphs.Digraph at 0x16cd0dc2090>"
            ]
          },
          "execution_count": 147,
          "metadata": {},
          "output_type": "execute_result"
        }
      ],
      "source": [
        "# 注释漏洞：请手动补充\n",
        "a = Value(3.0, label='a')\n",
        "b = a + a   ; b.label = 'b'\n",
        "b.backward()\n",
        "draw_dot(b)"
      ]
    },
    {
      "cell_type": "code",
      "execution_count": 148,
      "metadata": {},
      "outputs": [
        {
          "data": {
            "image/svg+xml": [
              "<?xml version=\"1.0\" encoding=\"UTF-8\" standalone=\"no\"?>\n",
              "<!DOCTYPE svg PUBLIC \"-//W3C//DTD SVG 1.1//EN\"\n",
              " \"http://www.w3.org/Graphics/SVG/1.1/DTD/svg11.dtd\">\n",
              "<!-- Generated by graphviz version 2.50.0 (0)\n",
              " -->\n",
              "<!-- Pages: 1 -->\n",
              "<svg width=\"772pt\" height=\"100pt\"\n",
              " viewBox=\"0.00 0.00 772.00 100.00\" xmlns=\"http://www.w3.org/2000/svg\" xmlns:xlink=\"http://www.w3.org/1999/xlink\">\n",
              "<g id=\"graph0\" class=\"graph\" transform=\"scale(1 1) rotate(0) translate(4 96)\">\n",
              "<polygon fill=\"white\" stroke=\"transparent\" points=\"-4,4 -4,-96 768,-96 768,4 -4,4\"/>\n",
              "<!-- 1566873681792 -->\n",
              "<g id=\"node1\" class=\"node\">\n",
              "<title>1566873681792</title>\n",
              "<polygon fill=\"none\" stroke=\"black\" points=\"0,-55.5 0,-91.5 174,-91.5 174,-55.5 0,-55.5\"/>\n",
              "<text text-anchor=\"middle\" x=\"11.5\" y=\"-69.8\" font-family=\"Times New Roman,serif\" font-size=\"14.00\">a</text>\n",
              "<polyline fill=\"none\" stroke=\"black\" points=\"23,-55.5 23,-91.5 \"/>\n",
              "<text text-anchor=\"middle\" x=\"65.5\" y=\"-69.8\" font-family=\"Times New Roman,serif\" font-size=\"14.00\">data &#45;2.0000</text>\n",
              "<polyline fill=\"none\" stroke=\"black\" points=\"108,-55.5 108,-91.5 \"/>\n",
              "<text text-anchor=\"middle\" x=\"141\" y=\"-69.8\" font-family=\"Times New Roman,serif\" font-size=\"14.00\">grad &#45;3.0</text>\n",
              "</g>\n",
              "<!-- 1566872183888* -->\n",
              "<g id=\"node3\" class=\"node\">\n",
              "<title>1566872183888*</title>\n",
              "<ellipse fill=\"none\" stroke=\"black\" cx=\"237\" cy=\"-73.5\" rx=\"27\" ry=\"18\"/>\n",
              "<text text-anchor=\"middle\" x=\"237\" y=\"-69.8\" font-family=\"Times New Roman,serif\" font-size=\"14.00\">*</text>\n",
              "</g>\n",
              "<!-- 1566873681792&#45;&gt;1566872183888* -->\n",
              "<g id=\"edge6\" class=\"edge\">\n",
              "<title>1566873681792&#45;&gt;1566872183888*</title>\n",
              "<path fill=\"none\" stroke=\"black\" d=\"M174.09,-73.5C183.01,-73.5 191.69,-73.5 199.59,-73.5\"/>\n",
              "<polygon fill=\"black\" stroke=\"black\" points=\"199.83,-77 209.83,-73.5 199.83,-70 199.83,-77\"/>\n",
              "</g>\n",
              "<!-- 1566874027936+ -->\n",
              "<g id=\"node8\" class=\"node\">\n",
              "<title>1566874027936+</title>\n",
              "<ellipse fill=\"none\" stroke=\"black\" cx=\"237\" cy=\"-18.5\" rx=\"27\" ry=\"18\"/>\n",
              "<text text-anchor=\"middle\" x=\"237\" y=\"-14.8\" font-family=\"Times New Roman,serif\" font-size=\"14.00\">+</text>\n",
              "</g>\n",
              "<!-- 1566873681792&#45;&gt;1566874027936+ -->\n",
              "<g id=\"edge9\" class=\"edge\">\n",
              "<title>1566873681792&#45;&gt;1566874027936+</title>\n",
              "<path fill=\"none\" stroke=\"black\" d=\"M148.92,-55.37C157.4,-52.56 165.96,-49.57 174,-46.5 184.45,-42.51 195.66,-37.65 205.63,-33.09\"/>\n",
              "<polygon fill=\"black\" stroke=\"black\" points=\"207.15,-36.25 214.75,-28.86 204.2,-29.9 207.15,-36.25\"/>\n",
              "</g>\n",
              "<!-- 1566872183888 -->\n",
              "<g id=\"node2\" class=\"node\">\n",
              "<title>1566872183888</title>\n",
              "<polygon fill=\"none\" stroke=\"black\" points=\"300,-55.5 300,-91.5 470,-91.5 470,-55.5 300,-55.5\"/>\n",
              "<text text-anchor=\"middle\" x=\"311.5\" y=\"-69.8\" font-family=\"Times New Roman,serif\" font-size=\"14.00\">d</text>\n",
              "<polyline fill=\"none\" stroke=\"black\" points=\"323,-55.5 323,-91.5 \"/>\n",
              "<text text-anchor=\"middle\" x=\"365.5\" y=\"-69.8\" font-family=\"Times New Roman,serif\" font-size=\"14.00\">data &#45;6.0000</text>\n",
              "<polyline fill=\"none\" stroke=\"black\" points=\"408,-55.5 408,-91.5 \"/>\n",
              "<text text-anchor=\"middle\" x=\"439\" y=\"-69.8\" font-family=\"Times New Roman,serif\" font-size=\"14.00\">grad 1.0</text>\n",
              "</g>\n",
              "<!-- 1566873507200* -->\n",
              "<g id=\"node6\" class=\"node\">\n",
              "<title>1566873507200*</title>\n",
              "<ellipse fill=\"none\" stroke=\"black\" cx=\"533\" cy=\"-45.5\" rx=\"27\" ry=\"18\"/>\n",
              "<text text-anchor=\"middle\" x=\"533\" y=\"-41.8\" font-family=\"Times New Roman,serif\" font-size=\"14.00\">*</text>\n",
              "</g>\n",
              "<!-- 1566872183888&#45;&gt;1566873507200* -->\n",
              "<g id=\"edge7\" class=\"edge\">\n",
              "<title>1566872183888&#45;&gt;1566873507200*</title>\n",
              "<path fill=\"none\" stroke=\"black\" d=\"M470.08,-57.37C479.44,-55.58 488.55,-53.83 496.78,-52.25\"/>\n",
              "<polygon fill=\"black\" stroke=\"black\" points=\"497.52,-55.68 506.68,-50.36 496.2,-48.8 497.52,-55.68\"/>\n",
              "</g>\n",
              "<!-- 1566872183888*&#45;&gt;1566872183888 -->\n",
              "<g id=\"edge1\" class=\"edge\">\n",
              "<title>1566872183888*&#45;&gt;1566872183888</title>\n",
              "<path fill=\"none\" stroke=\"black\" d=\"M264.1,-73.5C271.69,-73.5 280.45,-73.5 289.72,-73.5\"/>\n",
              "<polygon fill=\"black\" stroke=\"black\" points=\"289.93,-77 299.93,-73.5 289.93,-70 289.93,-77\"/>\n",
              "</g>\n",
              "<!-- 1566873675648 -->\n",
              "<g id=\"node4\" class=\"node\">\n",
              "<title>1566873675648</title>\n",
              "<polygon fill=\"none\" stroke=\"black\" points=\"2.5,-0.5 2.5,-36.5 171.5,-36.5 171.5,-0.5 2.5,-0.5\"/>\n",
              "<text text-anchor=\"middle\" x=\"14\" y=\"-14.8\" font-family=\"Times New Roman,serif\" font-size=\"14.00\">b</text>\n",
              "<polyline fill=\"none\" stroke=\"black\" points=\"25.5,-0.5 25.5,-36.5 \"/>\n",
              "<text text-anchor=\"middle\" x=\"65.5\" y=\"-14.8\" font-family=\"Times New Roman,serif\" font-size=\"14.00\">data 3.0000</text>\n",
              "<polyline fill=\"none\" stroke=\"black\" points=\"105.5,-0.5 105.5,-36.5 \"/>\n",
              "<text text-anchor=\"middle\" x=\"138.5\" y=\"-14.8\" font-family=\"Times New Roman,serif\" font-size=\"14.00\">grad &#45;8.0</text>\n",
              "</g>\n",
              "<!-- 1566873675648&#45;&gt;1566872183888* -->\n",
              "<g id=\"edge5\" class=\"edge\">\n",
              "<title>1566873675648&#45;&gt;1566872183888*</title>\n",
              "<path fill=\"none\" stroke=\"black\" d=\"M146.09,-36.57C155.47,-39.73 165.05,-43.1 174,-46.5 184.21,-50.37 195.18,-55 205.02,-59.31\"/>\n",
              "<polygon fill=\"black\" stroke=\"black\" points=\"203.84,-62.62 214.4,-63.49 206.69,-56.23 203.84,-62.62\"/>\n",
              "</g>\n",
              "<!-- 1566873675648&#45;&gt;1566874027936+ -->\n",
              "<g id=\"edge4\" class=\"edge\">\n",
              "<title>1566873675648&#45;&gt;1566874027936+</title>\n",
              "<path fill=\"none\" stroke=\"black\" d=\"M171.52,-18.5C181.4,-18.5 191.05,-18.5 199.75,-18.5\"/>\n",
              "<polygon fill=\"black\" stroke=\"black\" points=\"199.84,-22 209.84,-18.5 199.84,-15 199.84,-22\"/>\n",
              "</g>\n",
              "<!-- 1566873507200 -->\n",
              "<g id=\"node5\" class=\"node\">\n",
              "<title>1566873507200</title>\n",
              "<polygon fill=\"none\" stroke=\"black\" points=\"596,-27.5 596,-63.5 764,-63.5 764,-27.5 596,-27.5\"/>\n",
              "<text text-anchor=\"middle\" x=\"606.5\" y=\"-41.8\" font-family=\"Times New Roman,serif\" font-size=\"14.00\">f</text>\n",
              "<polyline fill=\"none\" stroke=\"black\" points=\"617,-27.5 617,-63.5 \"/>\n",
              "<text text-anchor=\"middle\" x=\"659.5\" y=\"-41.8\" font-family=\"Times New Roman,serif\" font-size=\"14.00\">data &#45;6.0000</text>\n",
              "<polyline fill=\"none\" stroke=\"black\" points=\"702,-27.5 702,-63.5 \"/>\n",
              "<text text-anchor=\"middle\" x=\"733\" y=\"-41.8\" font-family=\"Times New Roman,serif\" font-size=\"14.00\">grad 1.0</text>\n",
              "</g>\n",
              "<!-- 1566873507200*&#45;&gt;1566873507200 -->\n",
              "<g id=\"edge2\" class=\"edge\">\n",
              "<title>1566873507200*&#45;&gt;1566873507200</title>\n",
              "<path fill=\"none\" stroke=\"black\" d=\"M560.26,-45.5C567.81,-45.5 576.51,-45.5 585.7,-45.5\"/>\n",
              "<polygon fill=\"black\" stroke=\"black\" points=\"585.83,-49 595.83,-45.5 585.83,-42 585.83,-49\"/>\n",
              "</g>\n",
              "<!-- 1566874027936 -->\n",
              "<g id=\"node7\" class=\"node\">\n",
              "<title>1566874027936</title>\n",
              "<polygon fill=\"none\" stroke=\"black\" points=\"300.5,-0.5 300.5,-36.5 469.5,-36.5 469.5,-0.5 300.5,-0.5\"/>\n",
              "<text text-anchor=\"middle\" x=\"312\" y=\"-14.8\" font-family=\"Times New Roman,serif\" font-size=\"14.00\">e</text>\n",
              "<polyline fill=\"none\" stroke=\"black\" points=\"323.5,-0.5 323.5,-36.5 \"/>\n",
              "<text text-anchor=\"middle\" x=\"363.5\" y=\"-14.8\" font-family=\"Times New Roman,serif\" font-size=\"14.00\">data 1.0000</text>\n",
              "<polyline fill=\"none\" stroke=\"black\" points=\"403.5,-0.5 403.5,-36.5 \"/>\n",
              "<text text-anchor=\"middle\" x=\"436.5\" y=\"-14.8\" font-family=\"Times New Roman,serif\" font-size=\"14.00\">grad &#45;6.0</text>\n",
              "</g>\n",
              "<!-- 1566874027936&#45;&gt;1566873507200* -->\n",
              "<g id=\"edge8\" class=\"edge\">\n",
              "<title>1566874027936&#45;&gt;1566873507200*</title>\n",
              "<path fill=\"none\" stroke=\"black\" d=\"M469.66,-33.97C479.16,-35.73 488.41,-37.44 496.75,-38.98\"/>\n",
              "<polygon fill=\"black\" stroke=\"black\" points=\"496.32,-42.46 506.78,-40.84 497.59,-35.58 496.32,-42.46\"/>\n",
              "</g>\n",
              "<!-- 1566874027936+&#45;&gt;1566874027936 -->\n",
              "<g id=\"edge3\" class=\"edge\">\n",
              "<title>1566874027936+&#45;&gt;1566874027936</title>\n",
              "<path fill=\"none\" stroke=\"black\" d=\"M264.1,-18.5C271.83,-18.5 280.78,-18.5 290.24,-18.5\"/>\n",
              "<polygon fill=\"black\" stroke=\"black\" points=\"290.24,-22 300.24,-18.5 290.24,-15 290.24,-22\"/>\n",
              "</g>\n",
              "</g>\n",
              "</svg>\n"
            ],
            "text/plain": [
              "<graphviz.graphs.Digraph at 0x16cd0ddc380>"
            ]
          },
          "execution_count": 148,
          "metadata": {},
          "output_type": "execute_result"
        }
      ],
      "source": [
        "# 注释漏洞：请手动补充\n",
        "a = Value(-2.0, label='a')\n",
        "b = Value(3.0, label='b')\n",
        "d = a * b    ; d.label = 'd'\n",
        "e = a + b    ; e.label = 'e'\n",
        "f = d * e    ; f.label = 'f'\n",
        "\n",
        "f.backward()\n",
        "\n",
        "draw_dot(f)"
      ]
    },
    {
      "cell_type": "code",
      "execution_count": 149,
      "metadata": {},
      "outputs": [],
      "source": [
        "# 注释漏洞：请手动补充\n"
      ]
    }
  ],
  "metadata": {
    "kernelspec": {
      "display_name": "nanoGPT",
      "language": "python",
      "name": "python3"
    },
    "language_info": {
      "codemirror_mode": {
        "name": "ipython",
        "version": 3
      },
      "file_extension": ".py",
      "mimetype": "text/x-python",
      "name": "python",
      "nbconvert_exporter": "python",
      "pygments_lexer": "ipython3",
      "version": "3.12.9"
    }
  },
  "nbformat": 4,
  "nbformat_minor": 4
}
